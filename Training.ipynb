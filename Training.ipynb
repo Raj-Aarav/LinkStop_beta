{
 "cells": [
  {
   "cell_type": "code",
   "execution_count": 22,
   "id": "52facd81",
   "metadata": {},
   "outputs": [],
   "source": [
    "import pandas as pd"
   ]
  },
  {
   "cell_type": "code",
   "execution_count": 23,
   "id": "df25add1",
   "metadata": {},
   "outputs": [],
   "source": [
    "dataset=pd.read_csv('./processed_dataset_freqScale.csv')"
   ]
  },
  {
   "cell_type": "code",
   "execution_count": 24,
   "id": "5e1ef8e4",
   "metadata": {},
   "outputs": [
    {
     "data": {
      "text/html": [
       "<div>\n",
       "<style scoped>\n",
       "    .dataframe tbody tr th:only-of-type {\n",
       "        vertical-align: middle;\n",
       "    }\n",
       "\n",
       "    .dataframe tbody tr th {\n",
       "        vertical-align: top;\n",
       "    }\n",
       "\n",
       "    .dataframe thead th {\n",
       "        text-align: right;\n",
       "    }\n",
       "</style>\n",
       "<table border=\"1\" class=\"dataframe\">\n",
       "  <thead>\n",
       "    <tr style=\"text-align: right;\">\n",
       "      <th></th>\n",
       "      <th>URLLength</th>\n",
       "      <th>DomainLength</th>\n",
       "      <th>IsDomainIP</th>\n",
       "      <th>TLDLength</th>\n",
       "      <th>NoOfSubDomain</th>\n",
       "      <th>HasObfuscation</th>\n",
       "      <th>NoOfObfuscatedChar</th>\n",
       "      <th>ObfuscationRatio</th>\n",
       "      <th>CharContinuationRate</th>\n",
       "      <th>NoOfLettersInURL</th>\n",
       "      <th>LetterRatioInURL</th>\n",
       "      <th>SpacialCharRatioInURL</th>\n",
       "      <th>IsHTTPS</th>\n",
       "      <th>Domain_encoded</th>\n",
       "      <th>TLD_encoded</th>\n",
       "      <th>label</th>\n",
       "    </tr>\n",
       "  </thead>\n",
       "  <tbody>\n",
       "    <tr>\n",
       "      <th>0</th>\n",
       "      <td>-0.081694</td>\n",
       "      <td>0.272067</td>\n",
       "      <td>-0.035929</td>\n",
       "      <td>0.147842</td>\n",
       "      <td>-0.272125</td>\n",
       "      <td>0.0</td>\n",
       "      <td>-0.280493</td>\n",
       "      <td>-0.947990</td>\n",
       "      <td>-0.315360</td>\n",
       "      <td>-0.007175</td>\n",
       "      <td>0.891918</td>\n",
       "      <td>-0.461711</td>\n",
       "      <td>0.530259</td>\n",
       "      <td>-0.123742</td>\n",
       "      <td>1.040403</td>\n",
       "      <td>1</td>\n",
       "    </tr>\n",
       "    <tr>\n",
       "      <th>1</th>\n",
       "      <td>-0.275801</td>\n",
       "      <td>-0.594107</td>\n",
       "      <td>-0.035929</td>\n",
       "      <td>-0.518933</td>\n",
       "      <td>-0.272125</td>\n",
       "      <td>0.0</td>\n",
       "      <td>0.023861</td>\n",
       "      <td>1.647217</td>\n",
       "      <td>0.511623</td>\n",
       "      <td>-0.321046</td>\n",
       "      <td>-0.368121</td>\n",
       "      <td>1.810663</td>\n",
       "      <td>0.530259</td>\n",
       "      <td>-0.123742</td>\n",
       "      <td>-0.977234</td>\n",
       "      <td>1</td>\n",
       "    </tr>\n",
       "    <tr>\n",
       "      <th>2</th>\n",
       "      <td>-0.130221</td>\n",
       "      <td>0.055523</td>\n",
       "      <td>-0.035929</td>\n",
       "      <td>-0.518933</td>\n",
       "      <td>1.393996</td>\n",
       "      <td>0.0</td>\n",
       "      <td>-0.280493</td>\n",
       "      <td>-0.774977</td>\n",
       "      <td>-0.149963</td>\n",
       "      <td>-0.111799</td>\n",
       "      <td>0.303900</td>\n",
       "      <td>-0.461711</td>\n",
       "      <td>0.530259</td>\n",
       "      <td>-0.123742</td>\n",
       "      <td>-0.932578</td>\n",
       "      <td>1</td>\n",
       "    </tr>\n",
       "    <tr>\n",
       "      <th>3</th>\n",
       "      <td>-0.203011</td>\n",
       "      <td>-0.269292</td>\n",
       "      <td>-0.035929</td>\n",
       "      <td>0.147842</td>\n",
       "      <td>-0.272125</td>\n",
       "      <td>0.0</td>\n",
       "      <td>-0.280493</td>\n",
       "      <td>-0.467396</td>\n",
       "      <td>0.144075</td>\n",
       "      <td>-0.181548</td>\n",
       "      <td>0.503017</td>\n",
       "      <td>-0.461711</td>\n",
       "      <td>0.530259</td>\n",
       "      <td>-0.123742</td>\n",
       "      <td>1.040403</td>\n",
       "      <td>1</td>\n",
       "    </tr>\n",
       "    <tr>\n",
       "      <th>4</th>\n",
       "      <td>-0.033167</td>\n",
       "      <td>0.488610</td>\n",
       "      <td>-0.035929</td>\n",
       "      <td>0.147842</td>\n",
       "      <td>-0.272125</td>\n",
       "      <td>0.0</td>\n",
       "      <td>-0.280493</td>\n",
       "      <td>-1.100650</td>\n",
       "      <td>-0.461298</td>\n",
       "      <td>0.062574</td>\n",
       "      <td>1.015451</td>\n",
       "      <td>-0.461711</td>\n",
       "      <td>0.530259</td>\n",
       "      <td>-0.123742</td>\n",
       "      <td>-0.702678</td>\n",
       "      <td>1</td>\n",
       "    </tr>\n",
       "  </tbody>\n",
       "</table>\n",
       "</div>"
      ],
      "text/plain": [
       "   URLLength  DomainLength  IsDomainIP  TLDLength  NoOfSubDomain  \\\n",
       "0  -0.081694      0.272067   -0.035929   0.147842      -0.272125   \n",
       "1  -0.275801     -0.594107   -0.035929  -0.518933      -0.272125   \n",
       "2  -0.130221      0.055523   -0.035929  -0.518933       1.393996   \n",
       "3  -0.203011     -0.269292   -0.035929   0.147842      -0.272125   \n",
       "4  -0.033167      0.488610   -0.035929   0.147842      -0.272125   \n",
       "\n",
       "   HasObfuscation  NoOfObfuscatedChar  ObfuscationRatio  CharContinuationRate  \\\n",
       "0             0.0           -0.280493         -0.947990             -0.315360   \n",
       "1             0.0            0.023861          1.647217              0.511623   \n",
       "2             0.0           -0.280493         -0.774977             -0.149963   \n",
       "3             0.0           -0.280493         -0.467396              0.144075   \n",
       "4             0.0           -0.280493         -1.100650             -0.461298   \n",
       "\n",
       "   NoOfLettersInURL  LetterRatioInURL  SpacialCharRatioInURL   IsHTTPS  \\\n",
       "0         -0.007175          0.891918              -0.461711  0.530259   \n",
       "1         -0.321046         -0.368121               1.810663  0.530259   \n",
       "2         -0.111799          0.303900              -0.461711  0.530259   \n",
       "3         -0.181548          0.503017              -0.461711  0.530259   \n",
       "4          0.062574          1.015451              -0.461711  0.530259   \n",
       "\n",
       "   Domain_encoded  TLD_encoded  label  \n",
       "0       -0.123742     1.040403      1  \n",
       "1       -0.123742    -0.977234      1  \n",
       "2       -0.123742    -0.932578      1  \n",
       "3       -0.123742     1.040403      1  \n",
       "4       -0.123742    -0.702678      1  "
      ]
     },
     "execution_count": 24,
     "metadata": {},
     "output_type": "execute_result"
    }
   ],
   "source": [
    "dataset.head()"
   ]
  },
  {
   "cell_type": "code",
   "execution_count": 25,
   "id": "113c1751",
   "metadata": {},
   "outputs": [],
   "source": [
    "import matplotlib.pyplot as plt"
   ]
  },
  {
   "cell_type": "code",
   "execution_count": 26,
   "id": "966dc93b",
   "metadata": {},
   "outputs": [
    {
     "data": {
      "image/png": "[encoded data removed]",
      "text/plain": [
       "<Figure size 432x288 with 1 Axes>"
      ]
     },
     "metadata": {
      "needs_background": "light"
     },
     "output_type": "display_data"
    }
   ],
   "source": [
    "data=dataset['label'].value_counts()\n",
    "plt.bar([1,0],data.values,color=['blue','green'])\n",
    "plt.title('dataset split')\n",
    "plt.xlabel('target')\n",
    "plt.ylabel('count')\n",
    "plt.xticks([1, 0]) \n",
    "plt.show()"
   ]
  },
  {
   "cell_type": "code",
   "execution_count": 27,
   "id": "bb9b9e42",
   "metadata": {},
   "outputs": [
    {
     "data": {
      "text/plain": [
       "URLLength                0\n",
       "DomainLength             0\n",
       "IsDomainIP               0\n",
       "TLDLength                0\n",
       "NoOfSubDomain            0\n",
       "HasObfuscation           0\n",
       "NoOfObfuscatedChar       0\n",
       "ObfuscationRatio         0\n",
       "CharContinuationRate     0\n",
       "NoOfLettersInURL         0\n",
       "LetterRatioInURL         0\n",
       "SpacialCharRatioInURL    0\n",
       "IsHTTPS                  0\n",
       "Domain_encoded           0\n",
       "TLD_encoded              0\n",
       "label                    0\n",
       "dtype: int64"
      ]
     },
     "execution_count": 27,
     "metadata": {},
     "output_type": "execute_result"
    }
   ],
   "source": [
    "dataset.isnull().sum()"
   ]
  },
  {
   "cell_type": "code",
   "execution_count": 28,
   "id": "134a5462",
   "metadata": {},
   "outputs": [],
   "source": [
    "features_to_keep = [\n",
    "    'URLLength', 'CharContinuationRate', 'NoOfSubDomain', 'HasObfuscation', \n",
    "    'NoOfObfuscatedChar', 'ObfuscationRatio', 'NoOfLettersInURL', \n",
    "    'LetterRatioInURL', 'SpacialCharRatioInURL', \n",
    "    'IsHTTPS', 'TLD_encoded', 'label'\n",
    "]\n",
    "\n",
    "\n",
    "flt_dataset = dataset[features_to_keep]"
   ]
  },
  {
   "cell_type": "code",
   "execution_count": 29,
   "id": "5dc6ed43",
   "metadata": {},
   "outputs": [
    {
     "name": "stdout",
     "output_type": "stream",
     "text": [
      "nvcc: NVIDIA (R) Cuda compiler driver\r\n",
      "Copyright (c) 2005-2022 NVIDIA Corporation\r\n",
      "Built on Wed_Sep_21_10:33:58_PDT_2022\r\n",
      "Cuda compilation tools, release 11.8, V11.8.89\r\n",
      "Build cuda_11.8.r11.8/compiler.31833905_0\r\n"
     ]
    }
   ],
   "source": [
    "!nvcc --version\n"
   ]
  },
  {
   "cell_type": "code",
   "execution_count": 30,
   "id": "03d8e84a",
   "metadata": {},
   "outputs": [
    {
     "data": {
      "text/html": [
       "<div>\n",
       "<style scoped>\n",
       "    .dataframe tbody tr th:only-of-type {\n",
       "        vertical-align: middle;\n",
       "    }\n",
       "\n",
       "    .dataframe tbody tr th {\n",
       "        vertical-align: top;\n",
       "    }\n",
       "\n",
       "    .dataframe thead th {\n",
       "        text-align: right;\n",
       "    }\n",
       "</style>\n",
       "<table border=\"1\" class=\"dataframe\">\n",
       "  <thead>\n",
       "    <tr style=\"text-align: right;\">\n",
       "      <th></th>\n",
       "      <th>URLLength</th>\n",
       "      <th>CharContinuationRate</th>\n",
       "      <th>NoOfSubDomain</th>\n",
       "      <th>HasObfuscation</th>\n",
       "      <th>NoOfObfuscatedChar</th>\n",
       "      <th>ObfuscationRatio</th>\n",
       "      <th>NoOfLettersInURL</th>\n",
       "      <th>LetterRatioInURL</th>\n",
       "      <th>SpacialCharRatioInURL</th>\n",
       "      <th>IsHTTPS</th>\n",
       "      <th>TLD_encoded</th>\n",
       "      <th>label</th>\n",
       "    </tr>\n",
       "  </thead>\n",
       "  <tbody>\n",
       "    <tr>\n",
       "      <th>0</th>\n",
       "      <td>-0.081694</td>\n",
       "      <td>-0.315360</td>\n",
       "      <td>-0.272125</td>\n",
       "      <td>0.0</td>\n",
       "      <td>-0.280493</td>\n",
       "      <td>-0.947990</td>\n",
       "      <td>-0.007175</td>\n",
       "      <td>0.891918</td>\n",
       "      <td>-0.461711</td>\n",
       "      <td>0.530259</td>\n",
       "      <td>1.040403</td>\n",
       "      <td>1</td>\n",
       "    </tr>\n",
       "    <tr>\n",
       "      <th>1</th>\n",
       "      <td>-0.275801</td>\n",
       "      <td>0.511623</td>\n",
       "      <td>-0.272125</td>\n",
       "      <td>0.0</td>\n",
       "      <td>0.023861</td>\n",
       "      <td>1.647217</td>\n",
       "      <td>-0.321046</td>\n",
       "      <td>-0.368121</td>\n",
       "      <td>1.810663</td>\n",
       "      <td>0.530259</td>\n",
       "      <td>-0.977234</td>\n",
       "      <td>1</td>\n",
       "    </tr>\n",
       "    <tr>\n",
       "      <th>2</th>\n",
       "      <td>-0.130221</td>\n",
       "      <td>-0.149963</td>\n",
       "      <td>1.393996</td>\n",
       "      <td>0.0</td>\n",
       "      <td>-0.280493</td>\n",
       "      <td>-0.774977</td>\n",
       "      <td>-0.111799</td>\n",
       "      <td>0.303900</td>\n",
       "      <td>-0.461711</td>\n",
       "      <td>0.530259</td>\n",
       "      <td>-0.932578</td>\n",
       "      <td>1</td>\n",
       "    </tr>\n",
       "    <tr>\n",
       "      <th>3</th>\n",
       "      <td>-0.203011</td>\n",
       "      <td>0.144075</td>\n",
       "      <td>-0.272125</td>\n",
       "      <td>0.0</td>\n",
       "      <td>-0.280493</td>\n",
       "      <td>-0.467396</td>\n",
       "      <td>-0.181548</td>\n",
       "      <td>0.503017</td>\n",
       "      <td>-0.461711</td>\n",
       "      <td>0.530259</td>\n",
       "      <td>1.040403</td>\n",
       "      <td>1</td>\n",
       "    </tr>\n",
       "    <tr>\n",
       "      <th>4</th>\n",
       "      <td>-0.033167</td>\n",
       "      <td>-0.461298</td>\n",
       "      <td>-0.272125</td>\n",
       "      <td>0.0</td>\n",
       "      <td>-0.280493</td>\n",
       "      <td>-1.100650</td>\n",
       "      <td>0.062574</td>\n",
       "      <td>1.015451</td>\n",
       "      <td>-0.461711</td>\n",
       "      <td>0.530259</td>\n",
       "      <td>-0.702678</td>\n",
       "      <td>1</td>\n",
       "    </tr>\n",
       "  </tbody>\n",
       "</table>\n",
       "</div>"
      ],
      "text/plain": [
       "   URLLength  CharContinuationRate  NoOfSubDomain  HasObfuscation  \\\n",
       "0  -0.081694             -0.315360      -0.272125             0.0   \n",
       "1  -0.275801              0.511623      -0.272125             0.0   \n",
       "2  -0.130221             -0.149963       1.393996             0.0   \n",
       "3  -0.203011              0.144075      -0.272125             0.0   \n",
       "4  -0.033167             -0.461298      -0.272125             0.0   \n",
       "\n",
       "   NoOfObfuscatedChar  ObfuscationRatio  NoOfLettersInURL  LetterRatioInURL  \\\n",
       "0           -0.280493         -0.947990         -0.007175          0.891918   \n",
       "1            0.023861          1.647217         -0.321046         -0.368121   \n",
       "2           -0.280493         -0.774977         -0.111799          0.303900   \n",
       "3           -0.280493         -0.467396         -0.181548          0.503017   \n",
       "4           -0.280493         -1.100650          0.062574          1.015451   \n",
       "\n",
       "   SpacialCharRatioInURL   IsHTTPS  TLD_encoded  label  \n",
       "0              -0.461711  0.530259     1.040403      1  \n",
       "1               1.810663  0.530259    -0.977234      1  \n",
       "2              -0.461711  0.530259    -0.932578      1  \n",
       "3              -0.461711  0.530259     1.040403      1  \n",
       "4              -0.461711  0.530259    -0.702678      1  "
      ]
     },
     "execution_count": 30,
     "metadata": {},
     "output_type": "execute_result"
    }
   ],
   "source": [
    "flt_dataset.head()"
   ]
  },
  {
   "cell_type": "code",
   "execution_count": 31,
   "id": "b186edad",
   "metadata": {},
   "outputs": [
    {
     "name": "stdout",
     "output_type": "stream",
     "text": [
      "Device 0: Tesla V100-DGXS-32GB\n"
     ]
    }
   ],
   "source": [
    "import os\n",
    "import torch\n",
    "\n",
    "# Limit visibility to only GPU 3\n",
    "os.environ[\"CUDA_VISIBLE_DEVICES\"] = \"2\"\n",
    "\n",
    "# Check if CUDA is available and list GPUs\n",
    "if torch.cuda.is_available():\n",
    "    for i in range(torch.cuda.device_count()):\n",
    "        print(f\"Device {i}: {torch.cuda.get_device_name(i)}\")\n",
    "else:\n",
    "    print(\"No GPU devices found, using CPU\")"
   ]
  },
  {
   "cell_type": "code",
   "execution_count": 32,
   "id": "848f2aac",
   "metadata": {},
   "outputs": [],
   "source": [
    "from sklearn.model_selection import train_test_split\n",
    "\n",
    "# Split dataset into features (X) and labels (y)\n",
    "X = flt_dataset.drop(columns=['label'])  # Drop the target column\n",
    "y = flt_dataset['label']  # Target column\n",
    "\n",
    "# Train-test split\n",
    "X_train, X_test, y_train, y_test = train_test_split(X, y, test_size=0.2, random_state=42, stratify=y)"
   ]
  },
  {
   "cell_type": "code",
   "execution_count": null,
   "id": "feefa9c3",
   "metadata": {},
   "outputs": [],
   "source": [
    "\n"
   ]
  },
  {
   "cell_type": "code",
   "execution_count": null,
   "id": "7a6cc805",
   "metadata": {},
   "outputs": [],
   "source": [
    "\n"
   ]
  },
  {
   "cell_type": "code",
   "execution_count": null,
   "id": "1d0677b6",
   "metadata": {},
   "outputs": [],
   "source": [
    "\n",
    "\n"
   ]
  },
  {
   "cell_type": "markdown",
   "id": "9f2a387c",
   "metadata": {},
   "source": [
    " # LogisticRegression"
   ]
  },
  {
   "cell_type": "code",
   "execution_count": 33,
   "id": "8902abc5",
   "metadata": {},
   "outputs": [
    {
     "name": "stdout",
     "output_type": "stream",
     "text": [
      "Accuracy: 0.9935537225132001\n",
      "Confusion Matrix:\n",
      " [[19925   264]\n",
      " [   40 26930]]\n"
     ]
    }
   ],
   "source": [
    "from sklearn.linear_model import LogisticRegression\n",
    "from sklearn.metrics import accuracy_score, confusion_matrix\n",
    "\n",
    "# Initialize and train the model\n",
    "model = LogisticRegression()\n",
    "model.fit(X_train, y_train)\n",
    "\n",
    "# Make predictions on the test set\n",
    "y_pred = model.predict(X_test)\n",
    "\n",
    "# Calculate accuracy\n",
    "accuracy = accuracy_score(y_test, y_pred)\n",
    "\n",
    "# Generate confusion matrix\n",
    "conf_matrix = confusion_matrix(y_test, y_pred)\n",
    "\n",
    "# Print the results\n",
    "print(\"Accuracy:\", accuracy)\n",
    "print(\"Confusion Matrix:\\n\", conf_matrix)\n"
   ]
  },
  {
   "cell_type": "markdown",
   "id": "13d82ea3",
   "metadata": {},
   "source": [
    "# DecisionTreeClassifier"
   ]
  },
  {
   "cell_type": "code",
   "execution_count": 34,
   "id": "89514000",
   "metadata": {},
   "outputs": [
    {
     "name": "stdout",
     "output_type": "stream",
     "text": [
      "Accuracy: 0.9966920418159843\n",
      "Confusion Matrix:\n",
      " [[20079   110]\n",
      " [   46 26924]]\n"
     ]
    }
   ],
   "source": [
    "from sklearn.tree import DecisionTreeClassifier\n",
    "model = DecisionTreeClassifier()\n",
    "model.fit(X_train, y_train)\n",
    "y_pred = model.predict(X_test)\n",
    "# Calculate accuracy\n",
    "accuracy = accuracy_score(y_test, y_pred)\n",
    "\n",
    "# Generate confusion matrix\n",
    "conf_matrix = confusion_matrix(y_test, y_pred)\n",
    "\n",
    "# Print the results\n",
    "print(\"Accuracy:\", accuracy)\n",
    "print(\"Confusion Matrix:\\n\", conf_matrix)"
   ]
  },
  {
   "cell_type": "markdown",
   "id": "7b18a7cf",
   "metadata": {},
   "source": [
    "# RandomForestClassifier"
   ]
  },
  {
   "cell_type": "code",
   "execution_count": 35,
   "id": "75509c8b",
   "metadata": {},
   "outputs": [
    {
     "name": "stdout",
     "output_type": "stream",
     "text": [
      "Accuracy: 0.9969677049979856\n",
      "Confusion Matrix:\n",
      " [[20077   112]\n",
      " [   31 26939]]\n"
     ]
    }
   ],
   "source": [
    "from sklearn.ensemble import RandomForestClassifier\n",
    "model = RandomForestClassifier()\n",
    "model.fit(X_train, y_train)\n",
    "y_pred = model.predict(X_test)\n",
    "# Calculate accuracy\n",
    "accuracy = accuracy_score(y_test, y_pred)\n",
    "\n",
    "# Generate confusion matrix\n",
    "conf_matrix = confusion_matrix(y_test, y_pred)\n",
    "\n",
    "# Print the results\n",
    "print(\"Accuracy:\", accuracy)\n",
    "print(\"Confusion Matrix:\\n\", conf_matrix)"
   ]
  },
  {
   "cell_type": "code",
   "execution_count": 36,
   "id": "de8d46c1",
   "metadata": {},
   "outputs": [
    {
     "name": "stdout",
     "output_type": "stream",
     "text": [
      "Training Accuracy: 0.9939089039207787\n",
      "Test Accuracy: 0.9935537225132001\n",
      "Potential overfitting detected.\n"
     ]
    }
   ],
   "source": [
    "from sklearn.linear_model import LogisticRegression\n",
    "from sklearn.metrics import accuracy_score\n",
    "\n",
    "# Initialize and train the model\n",
    "model = LogisticRegression()\n",
    "model.fit(X_train, y_train)\n",
    "\n",
    "# Make predictions on both training and test sets\n",
    "y_train_pred = model.predict(X_train)\n",
    "y_test_pred = model.predict(X_test)\n",
    "\n",
    "# Calculate accuracy for both\n",
    "train_accuracy = accuracy_score(y_train, y_train_pred)\n",
    "test_accuracy = accuracy_score(y_test, y_test_pred)\n",
    "\n",
    "# Print the accuracy results\n",
    "print(f\"Training Accuracy: {train_accuracy}\")\n",
    "print(f\"Test Accuracy: {test_accuracy}\")\n",
    "\n",
    "# Compare the accuracies\n",
    "if train_accuracy > test_accuracy:\n",
    "    print(\"Potential overfitting detected.\")\n",
    "else:\n",
    "    print(\"Model is generalizing well.\")\n"
   ]
  },
  {
   "cell_type": "markdown",
   "id": "ee526e39",
   "metadata": {},
   "source": [
    "# Neural Network"
   ]
  },
  {
   "cell_type": "code",
   "execution_count": 37,
   "id": "f9dfaaf8",
   "metadata": {},
   "outputs": [
    {
     "name": "stdout",
     "output_type": "stream",
     "text": [
      "X train shape:  (188636, 11)\n",
      "y train shape:  (188636,)\n",
      "X test shape:  (47159, 11)\n",
      "y test shape:  (47159,)\n"
     ]
    }
   ],
   "source": [
    "print('X train shape: ',X_train.shape)\n",
    "print('y train shape: ',y_train.shape)\n",
    "print('X test shape: ',X_test.shape)\n",
    "print('y test shape: ',y_test.shape)"
   ]
  },
  {
   "cell_type": "code",
   "execution_count": 49,
   "id": "fceca0f1",
   "metadata": {},
   "outputs": [
    {
     "name": "stdout",
     "output_type": "stream",
     "text": [
      "Epoch [1/250], Loss: 0.7589101791381836, Accuracy: 0.42736804485321045\n",
      "Epoch [2/250], Loss: 0.7578085064888, Accuracy: 0.4273998439311981\n",
      "Epoch [3/250], Loss: 0.7567142844200134, Accuracy: 0.42745286226272583\n",
      "Epoch [4/250], Loss: 0.7556285262107849, Accuracy: 0.4274793863296509\n",
      "Epoch [5/250], Loss: 0.7545527219772339, Accuracy: 0.4274952709674835\n",
      "Epoch [6/250], Loss: 0.7534837126731873, Accuracy: 0.42751649022102356\n",
      "Epoch [7/250], Loss: 0.7524256110191345, Accuracy: 0.42754828929901123\n",
      "Epoch [8/250], Loss: 0.7513765096664429, Accuracy: 0.42755359411239624\n",
      "Epoch [9/250], Loss: 0.7503365278244019, Accuracy: 0.42755889892578125\n",
      "Epoch [10/250], Loss: 0.7493041157722473, Accuracy: 0.42759600281715393\n",
      "Epoch [11/250], Loss: 0.7482778429985046, Accuracy: 0.4276596009731293\n",
      "Epoch [12/250], Loss: 0.7472612261772156, Accuracy: 0.427728533744812\n",
      "Epoch [13/250], Loss: 0.7462522983551025, Accuracy: 0.42773914337158203\n",
      "Epoch [14/250], Loss: 0.7452477812767029, Accuracy: 0.42774972319602966\n",
      "Epoch [15/250], Loss: 0.7442495226860046, Accuracy: 0.4278133511543274\n",
      "Epoch [16/250], Loss: 0.7432554960250854, Accuracy: 0.4278504550457001\n",
      "Epoch [17/250], Loss: 0.7422643303871155, Accuracy: 0.4278504550457001\n",
      "Epoch [18/250], Loss: 0.7412775158882141, Accuracy: 0.4278663694858551\n",
      "Epoch [19/250], Loss: 0.7402949333190918, Accuracy: 0.4278663694858551\n",
      "Epoch [20/250], Loss: 0.7393136620521545, Accuracy: 0.4278663694858551\n",
      "Epoch [21/250], Loss: 0.738333523273468, Accuracy: 0.4278610646724701\n",
      "Epoch [22/250], Loss: 0.7373515963554382, Accuracy: 0.4278610646724701\n",
      "Epoch [23/250], Loss: 0.7363690733909607, Accuracy: 0.4278557598590851\n",
      "Epoch [24/250], Loss: 0.7353895306587219, Accuracy: 0.4278504550457001\n",
      "Epoch [25/250], Loss: 0.7344162464141846, Accuracy: 0.4278504550457001\n",
      "Epoch [26/250], Loss: 0.733460545539856, Accuracy: 0.4278504550457001\n",
      "Epoch [27/250], Loss: 0.7325195670127869, Accuracy: 0.4278610646724701\n",
      "Epoch [28/250], Loss: 0.7316100597381592, Accuracy: 0.4278610646724701\n",
      "Epoch [29/250], Loss: 0.7307640314102173, Accuracy: 0.42788225412368774\n",
      "Epoch [30/250], Loss: 0.7299535870552063, Accuracy: 0.42787694931030273\n",
      "Epoch [31/250], Loss: 0.7291772365570068, Accuracy: 0.42787694931030273\n",
      "Epoch [32/250], Loss: 0.7284296154975891, Accuracy: 0.42787694931030273\n",
      "Epoch [33/250], Loss: 0.727713406085968, Accuracy: 0.4278239607810974\n",
      "Epoch [34/250], Loss: 0.7270106077194214, Accuracy: 0.4278239607810974\n",
      "Epoch [35/250], Loss: 0.7263288497924805, Accuracy: 0.4277762472629547\n",
      "Epoch [36/250], Loss: 0.7256617546081543, Accuracy: 0.4277709424495697\n",
      "Epoch [37/250], Loss: 0.7250031232833862, Accuracy: 0.4277656376361847\n",
      "Epoch [38/250], Loss: 0.7243466377258301, Accuracy: 0.427707314491272\n",
      "Epoch [39/250], Loss: 0.7236965298652649, Accuracy: 0.4276702105998993\n",
      "Epoch [40/250], Loss: 0.7230446934700012, Accuracy: 0.42765432596206665\n",
      "Epoch [41/250], Loss: 0.7223920822143555, Accuracy: 0.4276384115219116\n",
      "Epoch [42/250], Loss: 0.7217420339584351, Accuracy: 0.4276224970817566\n",
      "Epoch [43/250], Loss: 0.72109055519104, Accuracy: 0.4276224970817566\n",
      "Epoch [44/250], Loss: 0.7204338908195496, Accuracy: 0.42752179503440857\n",
      "Epoch [45/250], Loss: 0.7197712063789368, Accuracy: 0.42750057578086853\n",
      "Epoch [46/250], Loss: 0.7191033363342285, Accuracy: 0.42752179503440857\n",
      "Epoch [47/250], Loss: 0.7184303402900696, Accuracy: 0.4274846613407135\n",
      "Epoch [48/250], Loss: 0.7177497148513794, Accuracy: 0.4274846613407135\n",
      "Epoch [49/250], Loss: 0.7170612215995789, Accuracy: 0.42747408151626587\n",
      "Epoch [50/250], Loss: 0.7163645029067993, Accuracy: 0.4274793863296509\n",
      "Epoch [51/250], Loss: 0.7156592011451721, Accuracy: 0.4274846613407135\n",
      "Epoch [52/250], Loss: 0.714945375919342, Accuracy: 0.42746877670288086\n",
      "Epoch [53/250], Loss: 0.7142205834388733, Accuracy: 0.4274952709674835\n",
      "Epoch [54/250], Loss: 0.7134850025177002, Accuracy: 0.4275270700454712\n",
      "Epoch [55/250], Loss: 0.7127391695976257, Accuracy: 0.42755359411239624\n",
      "Epoch [56/250], Loss: 0.7119831442832947, Accuracy: 0.4275800883769989\n",
      "Epoch [57/250], Loss: 0.711219310760498, Accuracy: 0.42756420373916626\n",
      "Epoch [58/250], Loss: 0.7104486227035522, Accuracy: 0.4275376796722412\n",
      "Epoch [59/250], Loss: 0.7096664309501648, Accuracy: 0.4274846613407135\n",
      "Epoch [60/250], Loss: 0.7088725566864014, Accuracy: 0.42742106318473816\n",
      "Epoch [61/250], Loss: 0.7080666422843933, Accuracy: 0.42735743522644043\n",
      "Epoch [62/250], Loss: 0.7072491645812988, Accuracy: 0.4273362457752228\n",
      "Epoch [63/250], Loss: 0.7064207792282104, Accuracy: 0.42732563614845276\n",
      "Epoch [64/250], Loss: 0.7055802941322327, Accuracy: 0.42732033133506775\n",
      "Epoch [65/250], Loss: 0.704727292060852, Accuracy: 0.4272991418838501\n",
      "Epoch [66/250], Loss: 0.7038660049438477, Accuracy: 0.4272938370704651\n",
      "Epoch [67/250], Loss: 0.7029916048049927, Accuracy: 0.42727792263031006\n",
      "Epoch [68/250], Loss: 0.7021013498306274, Accuracy: 0.4272461235523224\n",
      "Epoch [69/250], Loss: 0.7011945843696594, Accuracy: 0.42722490429878235\n",
      "Epoch [70/250], Loss: 0.70027095079422, Accuracy: 0.4272090196609497\n",
      "Epoch [71/250], Loss: 0.6993299722671509, Accuracy: 0.4272143244743347\n",
      "Epoch [72/250], Loss: 0.6983720660209656, Accuracy: 0.4275270700454712\n",
      "Epoch [73/250], Loss: 0.6973959803581238, Accuracy: 0.4281897246837616\n",
      "Epoch [74/250], Loss: 0.6964004635810852, Accuracy: 0.43005576729774475\n",
      "Epoch [75/250], Loss: 0.6953867077827454, Accuracy: 0.4319536089897156\n",
      "Epoch [76/250], Loss: 0.6943557262420654, Accuracy: 0.43239888548851013\n",
      "Epoch [77/250], Loss: 0.6933051943778992, Accuracy: 0.43244659900665283\n",
      "Epoch [78/250], Loss: 0.6922341585159302, Accuracy: 0.4322398602962494\n",
      "Epoch [79/250], Loss: 0.6911422610282898, Accuracy: 0.4320013225078583\n",
      "Epoch [80/250], Loss: 0.6900286674499512, Accuracy: 0.4318210780620575\n",
      "Epoch [81/250], Loss: 0.6888935565948486, Accuracy: 0.4316726326942444\n",
      "Epoch [82/250], Loss: 0.6877361536026001, Accuracy: 0.4316726326942444\n",
      "Epoch [83/250], Loss: 0.6865558624267578, Accuracy: 0.4314870834350586\n",
      "Epoch [84/250], Loss: 0.6853461861610413, Accuracy: 0.4314446747303009\n",
      "Epoch [85/250], Loss: 0.6841063499450684, Accuracy: 0.4314393699169159\n",
      "Epoch [86/250], Loss: 0.6828364133834839, Accuracy: 0.4313969612121582\n",
      "Epoch [87/250], Loss: 0.6815372705459595, Accuracy: 0.4313598573207855\n",
      "Epoch [88/250], Loss: 0.680207371711731, Accuracy: 0.43123263120651245\n",
      "Epoch [89/250], Loss: 0.6788420081138611, Accuracy: 0.4312485456466675\n",
      "Epoch [90/250], Loss: 0.677442729473114, Accuracy: 0.4318210780620575\n",
      "Epoch [91/250], Loss: 0.6760097146034241, Accuracy: 0.4353516697883606\n",
      "Epoch [92/250], Loss: 0.6745443940162659, Accuracy: 0.43829384446144104\n",
      "Epoch [93/250], Loss: 0.6730412840843201, Accuracy: 0.4411034882068634\n",
      "Epoch [94/250], Loss: 0.6715033054351807, Accuracy: 0.4436586797237396\n",
      "Epoch [95/250], Loss: 0.669922947883606, Accuracy: 0.47208908200263977\n",
      "Epoch [96/250], Loss: 0.6682455539703369, Accuracy: 0.48791322112083435\n",
      "Epoch [97/250], Loss: 0.6664971113204956, Accuracy: 0.4948631227016449\n",
      "Epoch [98/250], Loss: 0.6646944284439087, Accuracy: 0.4970419108867645\n",
      "Epoch [99/250], Loss: 0.6628177165985107, Accuracy: 0.4991888999938965\n",
      "Epoch [100/250], Loss: 0.6608411073684692, Accuracy: 0.5004240870475769\n",
      "Epoch [101/250], Loss: 0.6587929725646973, Accuracy: 0.50114506483078\n",
      "Epoch [102/250], Loss: 0.6566791534423828, Accuracy: 0.5016645789146423\n",
      "Epoch [103/250], Loss: 0.6544955968856812, Accuracy: 0.5019985437393188\n",
      "Epoch [104/250], Loss: 0.6522497534751892, Accuracy: 0.5021469593048096\n",
      "Epoch [105/250], Loss: 0.6499294638633728, Accuracy: 0.502252995967865\n",
      "Epoch [106/250], Loss: 0.6475375294685364, Accuracy: 0.5024915933609009\n",
      "Epoch [107/250], Loss: 0.6450709104537964, Accuracy: 0.5032019019126892\n",
      "Epoch [108/250], Loss: 0.6425262093544006, Accuracy: 0.5044212341308594\n",
      "Epoch [109/250], Loss: 0.6399000883102417, Accuracy: 0.5054019093513489\n",
      "Epoch [110/250], Loss: 0.6371892094612122, Accuracy: 0.5167624354362488\n",
      "Epoch [111/250], Loss: 0.6343939900398254, Accuracy: 0.5252496600151062\n",
      "Epoch [112/250], Loss: 0.6314588785171509, Accuracy: 0.5276246070861816\n",
      "Epoch [113/250], Loss: 0.6283688545227051, Accuracy: 0.5601157546043396\n",
      "Epoch [114/250], Loss: 0.6251592636108398, Accuracy: 0.5970970392227173\n",
      "Epoch [115/250], Loss: 0.6218532919883728, Accuracy: 0.6117495894432068\n",
      "Epoch [116/250], Loss: 0.6184704303741455, Accuracy: 0.6206715703010559\n",
      "Epoch [117/250], Loss: 0.6150272488594055, Accuracy: 0.6527704000473022\n",
      "Epoch [118/250], Loss: 0.6115297675132751, Accuracy: 0.6616923809051514\n"
     ]
    },
    {
     "name": "stdout",
     "output_type": "stream",
     "text": [
      "Epoch [119/250], Loss: 0.6079798340797424, Accuracy: 0.6670041680335999\n",
      "Epoch [120/250], Loss: 0.604391872882843, Accuracy: 0.6711709499359131\n",
      "Epoch [121/250], Loss: 0.6007636785507202, Accuracy: 0.6740176677703857\n",
      "Epoch [122/250], Loss: 0.5970955491065979, Accuracy: 0.6753695011138916\n",
      "Epoch [123/250], Loss: 0.5933883786201477, Accuracy: 0.6759313941001892\n",
      "Epoch [124/250], Loss: 0.5896470546722412, Accuracy: 0.6766417622566223\n",
      "Epoch [125/250], Loss: 0.5858745574951172, Accuracy: 0.6768856048583984\n",
      "Epoch [126/250], Loss: 0.5820755362510681, Accuracy: 0.6774953007698059\n",
      "Epoch [127/250], Loss: 0.5782526135444641, Accuracy: 0.6782162189483643\n",
      "Epoch [128/250], Loss: 0.5744056701660156, Accuracy: 0.6790060997009277\n",
      "Epoch [129/250], Loss: 0.5705341100692749, Accuracy: 0.6796846985816956\n",
      "Epoch [130/250], Loss: 0.5666387677192688, Accuracy: 0.6813598871231079\n",
      "Epoch [131/250], Loss: 0.5627204775810242, Accuracy: 0.6831198334693909\n",
      "Epoch [132/250], Loss: 0.558778703212738, Accuracy: 0.6848162412643433\n",
      "Epoch [133/250], Loss: 0.5548127889633179, Accuracy: 0.6952225565910339\n",
      "Epoch [134/250], Loss: 0.5508235096931458, Accuracy: 0.707054853439331\n",
      "Epoch [135/250], Loss: 0.5468083024024963, Accuracy: 0.7254500389099121\n",
      "Epoch [136/250], Loss: 0.5427640080451965, Accuracy: 0.7361637949943542\n",
      "Epoch [137/250], Loss: 0.5386868715286255, Accuracy: 0.7437869906425476\n",
      "Epoch [138/250], Loss: 0.5345777273178101, Accuracy: 0.7482452988624573\n",
      "Epoch [139/250], Loss: 0.5304378867149353, Accuracy: 0.7510125041007996\n",
      "Epoch [140/250], Loss: 0.5262649655342102, Accuracy: 0.7520621418952942\n",
      "Epoch [141/250], Loss: 0.5220595002174377, Accuracy: 0.752751350402832\n",
      "Epoch [142/250], Loss: 0.517818808555603, Accuracy: 0.8949511051177979\n",
      "Epoch [143/250], Loss: 0.5135462284088135, Accuracy: 0.9164157509803772\n",
      "Epoch [144/250], Loss: 0.5092437267303467, Accuracy: 0.92951500415802\n",
      "Epoch [145/250], Loss: 0.5049204230308533, Accuracy: 0.9317468404769897\n",
      "Epoch [146/250], Loss: 0.5005816221237183, Accuracy: 0.933872640132904\n",
      "Epoch [147/250], Loss: 0.49623245000839233, Accuracy: 0.9378167390823364\n",
      "Epoch [148/250], Loss: 0.4918743073940277, Accuracy: 0.9379545450210571\n",
      "Epoch [149/250], Loss: 0.48750948905944824, Accuracy: 0.9379757642745972\n",
      "Epoch [150/250], Loss: 0.4831398129463196, Accuracy: 0.9386225342750549\n",
      "Epoch [151/250], Loss: 0.47876614332199097, Accuracy: 0.9399001002311707\n",
      "Epoch [152/250], Loss: 0.47439107298851013, Accuracy: 0.9398365020751953\n",
      "Epoch [153/250], Loss: 0.47001880407333374, Accuracy: 0.9400909543037415\n",
      "Epoch [154/250], Loss: 0.4656483232975006, Accuracy: 0.939963698387146\n",
      "Epoch [155/250], Loss: 0.46127983927726746, Accuracy: 0.9401015639305115\n",
      "Epoch [156/250], Loss: 0.45691487193107605, Accuracy: 0.9402340650558472\n",
      "Epoch [157/250], Loss: 0.45255595445632935, Accuracy: 0.9404832720756531\n",
      "Epoch [158/250], Loss: 0.44820481538772583, Accuracy: 0.9406582117080688\n",
      "Epoch [159/250], Loss: 0.4438609480857849, Accuracy: 0.9406316876411438\n",
      "Epoch [160/250], Loss: 0.43952473998069763, Accuracy: 0.9405574798583984\n",
      "Epoch [161/250], Loss: 0.4351968765258789, Accuracy: 0.9405733942985535\n",
      "Epoch [162/250], Loss: 0.4308781921863556, Accuracy: 0.9407854080200195\n",
      "Epoch [163/250], Loss: 0.4265687167644501, Accuracy: 0.9410663843154907\n",
      "Epoch [164/250], Loss: 0.4222696125507355, Accuracy: 0.9409444332122803\n",
      "Epoch [165/250], Loss: 0.4179827570915222, Accuracy: 0.9410929083824158\n",
      "Epoch [166/250], Loss: 0.41371095180511475, Accuracy: 0.9412307143211365\n",
      "Epoch [167/250], Loss: 0.40945467352867126, Accuracy: 0.9412519335746765\n",
      "Epoch [168/250], Loss: 0.40521588921546936, Accuracy: 0.9394230246543884\n",
      "Epoch [169/250], Loss: 0.4009948670864105, Accuracy: 0.9393752813339233\n",
      "Epoch [170/250], Loss: 0.39679262042045593, Accuracy: 0.9393805861473083\n",
      "Epoch [171/250], Loss: 0.3926111161708832, Accuracy: 0.9395926594734192\n",
      "Epoch [172/250], Loss: 0.38845115900039673, Accuracy: 0.9395555257797241\n",
      "Epoch [173/250], Loss: 0.3843153417110443, Accuracy: 0.939767599105835\n",
      "Epoch [174/250], Loss: 0.38020333647727966, Accuracy: 0.93976229429245\n",
      "Epoch [175/250], Loss: 0.3761168420314789, Accuracy: 0.9397145509719849\n",
      "Epoch [176/250], Loss: 0.37205588817596436, Accuracy: 0.9398736357688904\n",
      "Epoch [177/250], Loss: 0.3680209517478943, Accuracy: 0.939990222454071\n",
      "Epoch [178/250], Loss: 0.3640138804912567, Accuracy: 0.939995527267456\n",
      "Epoch [179/250], Loss: 0.3600369095802307, Accuracy: 0.9400114417076111\n",
      "Epoch [180/250], Loss: 0.35608983039855957, Accuracy: 0.9399107098579407\n",
      "Epoch [181/250], Loss: 0.3521745502948761, Accuracy: 0.9400644302368164\n",
      "Epoch [182/250], Loss: 0.3482925593852997, Accuracy: 0.9401439428329468\n",
      "Epoch [183/250], Loss: 0.34444496035575867, Accuracy: 0.9403666257858276\n",
      "Epoch [184/250], Loss: 0.3406318128108978, Accuracy: 0.940414309501648\n",
      "Epoch [185/250], Loss: 0.3368533253669739, Accuracy: 0.9406157732009888\n",
      "Epoch [186/250], Loss: 0.33310946822166443, Accuracy: 0.9406899809837341\n",
      "Epoch [187/250], Loss: 0.3293997645378113, Accuracy: 0.9407747983932495\n",
      "Epoch [188/250], Loss: 0.32572394609451294, Accuracy: 0.9409921765327454\n",
      "Epoch [189/250], Loss: 0.3220815360546112, Accuracy: 0.9410292506217957\n",
      "Epoch [190/250], Loss: 0.31847381591796875, Accuracy: 0.9412625432014465\n",
      "Epoch [191/250], Loss: 0.31490087509155273, Accuracy: 0.9413049221038818\n",
      "Epoch [192/250], Loss: 0.3113628923892975, Accuracy: 0.9411352872848511\n",
      "Epoch [193/250], Loss: 0.3078587055206299, Accuracy: 0.9412572383880615\n",
      "Epoch [194/250], Loss: 0.3043898940086365, Accuracy: 0.9413049221038818\n",
      "Epoch [195/250], Loss: 0.3009568154811859, Accuracy: 0.9416919350624084\n",
      "Epoch [196/250], Loss: 0.29755899310112, Accuracy: 0.9417237043380737\n",
      "Epoch [197/250], Loss: 0.29419639706611633, Accuracy: 0.9418880939483643\n",
      "Epoch [198/250], Loss: 0.29086822271347046, Accuracy: 0.942057728767395\n",
      "Epoch [199/250], Loss: 0.2875765562057495, Accuracy: 0.9421425461769104\n",
      "Epoch [200/250], Loss: 0.284321665763855, Accuracy: 0.9422220587730408\n",
      "Epoch [201/250], Loss: 0.2811031937599182, Accuracy: 0.9423916935920715\n",
      "Epoch [202/250], Loss: 0.2779198884963989, Accuracy: 0.9425401091575623\n",
      "Epoch [203/250], Loss: 0.27477407455444336, Accuracy: 0.9425878524780273\n",
      "Epoch [204/250], Loss: 0.27166512608528137, Accuracy: 0.9426196217536926\n",
      "Epoch [205/250], Loss: 0.2685924768447876, Accuracy: 0.942720353603363\n",
      "Epoch [206/250], Loss: 0.2655556797981262, Accuracy: 0.9428210854530334\n",
      "Epoch [207/250], Loss: 0.26255378127098083, Accuracy: 0.9431338310241699\n",
      "Epoch [208/250], Loss: 0.2595863342285156, Accuracy: 0.9449892640113831\n",
      "Epoch [209/250], Loss: 0.25665274262428284, Accuracy: 0.9452649354934692\n",
      "Epoch [210/250], Loss: 0.2537546455860138, Accuracy: 0.9450210928916931\n",
      "Epoch [211/250], Loss: 0.25089120864868164, Accuracy: 0.9451006054878235\n",
      "Epoch [212/250], Loss: 0.24806182086467743, Accuracy: 0.945227861404419\n",
      "Epoch [213/250], Loss: 0.24526600539684296, Accuracy: 0.9455671310424805\n",
      "Epoch [214/250], Loss: 0.24250471591949463, Accuracy: 0.9458109736442566\n",
      "Epoch [215/250], Loss: 0.2397780567407608, Accuracy: 0.9459381699562073\n",
      "Epoch [216/250], Loss: 0.23708665370941162, Accuracy: 0.9462562799453735\n",
      "Epoch [217/250], Loss: 0.23442983627319336, Accuracy: 0.9463834762573242\n",
      "Epoch [218/250], Loss: 0.23180513083934784, Accuracy: 0.947040855884552\n",
      "Epoch [219/250], Loss: 0.22921282052993774, Accuracy: 0.9474437236785889\n",
      "Epoch [220/250], Loss: 0.2266528606414795, Accuracy: 0.9477829933166504\n",
      "Epoch [221/250], Loss: 0.22412364184856415, Accuracy: 0.9480957984924316\n",
      "Epoch [222/250], Loss: 0.2216266542673111, Accuracy: 0.9480586647987366\n",
      "Epoch [223/250], Loss: 0.2191629260778427, Accuracy: 0.9481381773948669\n",
      "Epoch [224/250], Loss: 0.21673238277435303, Accuracy: 0.9485728740692139\n",
      "Epoch [225/250], Loss: 0.21433450281620026, Accuracy: 0.9487637281417847\n",
      "Epoch [226/250], Loss: 0.21196995675563812, Accuracy: 0.9487266540527344\n",
      "Epoch [227/250], Loss: 0.20963795483112335, Accuracy: 0.9489811062812805\n",
      "Epoch [228/250], Loss: 0.20733892917633057, Accuracy: 0.9493627548217773\n",
      "Epoch [229/250], Loss: 0.20507414638996124, Accuracy: 0.9493945837020874\n",
      "Epoch [230/250], Loss: 0.20284268260002136, Accuracy: 0.9494423270225525\n",
      "Epoch [231/250], Loss: 0.20064404606819153, Accuracy: 0.9499034881591797\n",
      "Epoch [232/250], Loss: 0.19847767055034637, Accuracy: 0.9498770236968994\n",
      "Epoch [233/250], Loss: 0.1963430941104889, Accuracy: 0.9499671459197998\n"
     ]
    },
    {
     "name": "stdout",
     "output_type": "stream",
     "text": [
      "Epoch [234/250], Loss: 0.1942392736673355, Accuracy: 0.9501102566719055\n",
      "Epoch [235/250], Loss: 0.19216568768024445, Accuracy: 0.9505131244659424\n",
      "Epoch [236/250], Loss: 0.19012215733528137, Accuracy: 0.950873613357544\n",
      "Epoch [237/250], Loss: 0.18810942769050598, Accuracy: 0.9510432481765747\n",
      "Epoch [238/250], Loss: 0.18612702190876007, Accuracy: 0.9510326385498047\n",
      "Epoch [239/250], Loss: 0.18417410552501678, Accuracy: 0.9513242244720459\n",
      "Epoch [240/250], Loss: 0.18224990367889404, Accuracy: 0.9516158103942871\n",
      "Epoch [241/250], Loss: 0.180353045463562, Accuracy: 0.9517323970794678\n",
      "Epoch [242/250], Loss: 0.17848429083824158, Accuracy: 0.9517907500267029\n",
      "Epoch [243/250], Loss: 0.17664358019828796, Accuracy: 0.9521088004112244\n",
      "Epoch [244/250], Loss: 0.1748313009738922, Accuracy: 0.9526230096817017\n",
      "Epoch [245/250], Loss: 0.17304714024066925, Accuracy: 0.952697217464447\n",
      "Epoch [246/250], Loss: 0.17129004001617432, Accuracy: 0.9529411196708679\n",
      "Epoch [247/250], Loss: 0.1695593148469925, Accuracy: 0.9530100226402283\n",
      "Epoch [248/250], Loss: 0.16785429418087006, Accuracy: 0.9538052082061768\n",
      "Epoch [249/250], Loss: 0.16617506742477417, Accuracy: 0.954314112663269\n",
      "Epoch [250/250], Loss: 0.16452240943908691, Accuracy: 0.9548389315605164\n"
     ]
    }
   ],
   "source": [
    "import torch\n",
    "import torch.nn as nn\n",
    "import torch.optim as optim\n",
    "import matplotlib.pyplot as plt\n",
    "from sklearn.metrics import confusion_matrix, roc_curve, auc, precision_recall_curve\n",
    "import numpy as np\n",
    "\n",
    "class NNModel(nn.Module):\n",
    "    def __init__(self, input_size):\n",
    "        super(NNModel, self).__init__()\n",
    "        self.flatten = nn.Flatten()\n",
    "        self.fc1 = nn.Linear(input_size, 10)\n",
    "        self.relu1 = nn.ReLU()\n",
    "        self.fc2 = nn.Linear(10, 5)\n",
    "        self.relu2 = nn.ReLU()\n",
    "        self.fc3 = nn.Linear(5, 1)\n",
    "        self.sigmoid = nn.Sigmoid()\n",
    "\n",
    "    def forward(self, x):\n",
    "        x = self.flatten(x)\n",
    "        x = self.fc1(x)\n",
    "        x = self.relu1(x)\n",
    "        x = self.fc2(x)\n",
    "        x = self.relu2(x)\n",
    "        x = self.fc3(x)\n",
    "        x = self.sigmoid(x)\n",
    "        return x\n",
    "\n",
    "# Assuming X_train is a Pandas DataFrame and y_train is a Pandas Series\n",
    "input_size = X_train.shape[1]\n",
    "\n",
    "# Move model to GPU\n",
    "device = torch.device('cuda' if torch.cuda.is_available() else 'cpu')\n",
    "model = NNModel(input_size).to(device)\n",
    "\n",
    "# Set the optimizer and loss function\n",
    "optimizer = optim.Adam(model.parameters(), lr=1e-3)\n",
    "loss_fn = nn.BCELoss()\n",
    "\n",
    "# Convert X_train DataFrame to NumPy array, then to PyTorch tensor, and move to GPU\n",
    "X_train_tensor = torch.tensor(X_train.values, dtype=torch.float32).to(device)\n",
    "y_train_tensor = torch.tensor(y_train.values, dtype=torch.float32).to(device)\n",
    "\n",
    "# Reshape y_train_tensor to match the model's output shape\n",
    "y_train_tensor = y_train_tensor.view(-1, 1)\n",
    "\n",
    "# Initialize lists to store loss and accuracy values\n",
    "train_losses = []\n",
    "train_accuracies = []\n",
    "all_preds = []\n",
    "all_labels = []\n",
    "\n",
    "# Training Loop\n",
    "num_epochs = 250\n",
    "batch_size = 32\n",
    "\n",
    "for epoch in range(num_epochs):\n",
    "    model.train()\n",
    "    optimizer.zero_grad()\n",
    "    \n",
    "    # Forward pass\n",
    "    outputs = model(X_train_tensor)\n",
    "    loss = loss_fn(outputs, y_train_tensor)\n",
    "    \n",
    "    # Backward pass\n",
    "    loss.backward()\n",
    "    optimizer.step()\n",
    "    \n",
    "    # Calculate accuracy\n",
    "    predictions = (outputs > 0.5).float()\n",
    "    accuracy = (predictions == y_train_tensor).float().mean()\n",
    "    \n",
    "    # Store loss and accuracy for plotting\n",
    "    train_losses.append(loss.item())\n",
    "    train_accuracies.append(accuracy.item())\n",
    "    \n",
    "    # Collect all predictions and true labels for further analysis\n",
    "    all_preds.extend(predictions.cpu().detach().numpy())\n",
    "    all_labels.extend(y_train_tensor.cpu().detach().numpy())\n",
    "    \n",
    "    print(f'Epoch [{epoch+1}/{num_epochs}], Loss: {loss.item()}, Accuracy: {accuracy.item()}')\n",
    "\n"
   ]
  },
  {
   "cell_type": "markdown",
   "id": "42203fea",
   "metadata": {},
   "source": [
    "# Testing"
   ]
  },
  {
   "cell_type": "code",
   "execution_count": 50,
   "id": "92c91061",
   "metadata": {},
   "outputs": [
    {
     "name": "stdout",
     "output_type": "stream",
     "text": [
      "Test Accuracy: 95.62%\n"
     ]
    }
   ],
   "source": [
    "# Assuming X_test is a Pandas DataFrame and y_test is a Pandas Series\n",
    "\n",
    "# Convert X_test and y_test to PyTorch tensors and move to GPU\n",
    "X_test_tensor = torch.tensor(X_test.values, dtype=torch.float32).to(device)\n",
    "y_test_tensor = torch.tensor(y_test.values, dtype=torch.float32).to(device)\n",
    "\n",
    "# Reshape y_test_tensor to match the model's output shape\n",
    "y_test_tensor = y_test_tensor.view(-1, 1)\n",
    "\n",
    "# Set the model to evaluation mode\n",
    "model.eval()\n",
    "\n",
    "# Disable gradient calculation for evaluation\n",
    "with torch.no_grad():\n",
    "    # Forward pass on the test data\n",
    "    outputs = model(X_test_tensor)\n",
    "    \n",
    "    # Convert outputs to binary predictions (0 or 1)\n",
    "    predictions = (outputs > 0.5).float()\n",
    "    \n",
    "    # Calculate accuracy\n",
    "    accuracy = (predictions == y_test_tensor).float().mean()\n",
    "    print(f'Test Accuracy: {accuracy.item() * 100:.2f}%')\n"
   ]
  },
  {
   "cell_type": "code",
   "execution_count": 51,
   "id": "04096034",
   "metadata": {},
   "outputs": [
    {
     "data": {
      "image/png": "[encoded data removed]",
      "text/plain": [
       "<Figure size 432x360 with 2 Axes>"
      ]
     },
     "metadata": {
      "needs_background": "light"
     },
     "output_type": "display_data"
    },
    {
     "data": {
      "image/png": "[encoded data removed]",
      "text/plain": [
       "<Figure size 720x360 with 1 Axes>"
      ]
     },
     "metadata": {
      "needs_background": "light"
     },
     "output_type": "display_data"
    },
    {
     "data": {
      "image/png": "[encoded data removed]",
      "text/plain": [
       "<Figure size 432x360 with 1 Axes>"
      ]
     },
     "metadata": {
      "needs_background": "light"
     },
     "output_type": "display_data"
    }
   ],
   "source": [
    "# 1. Confusion Matrix\n",
    "cm = confusion_matrix(y_true, y_pred)\n",
    "plt.figure(figsize=(6, 5))\n",
    "plt.imshow(cm, interpolation='nearest', cmap=plt.cm.Blues)\n",
    "plt.title('Confusion Matrix')\n",
    "plt.colorbar()\n",
    "plt.ylabel('True label')\n",
    "plt.xlabel('Predicted label')\n",
    "plt.xticks([0, 1], ['0', '1'])\n",
    "plt.yticks([0, 1], ['0', '1'])\n",
    "plt.show()\n",
    "\n",
    "# 2. Loss Graph\n",
    "plt.figure(figsize=(10, 5))\n",
    "plt.plot(train_losses, label='Training Loss')\n",
    "plt.xlabel('Epochs')\n",
    "plt.ylabel('Loss')\n",
    "plt.title('Loss Curve')\n",
    "plt.legend()\n",
    "plt.show()\n",
    "\n",
    "# 3. ROC Curve\n",
    "fpr, tpr, _ = roc_curve(y_true, y_pred)\n",
    "roc_auc = auc(fpr, tpr)\n",
    "\n",
    "plt.figure(figsize=(6, 5))\n",
    "plt.plot(fpr, tpr, color='blue', lw=2, label=f'ROC curve (area = {roc_auc:.2f})')\n",
    "plt.plot([0, 1], [0, 1], color='gray', linestyle='--')\n",
    "plt.xlabel('False Positive Rate')\n",
    "plt.ylabel('True Positive Rate')\n",
    "plt.title('Receiver Operating Characteristic (ROC) Curve')\n",
    "plt.legend(loc='lower right')\n",
    "plt.show()"
   ]
  },
  {
   "cell_type": "markdown",
   "id": "583602e8",
   "metadata": {},
   "source": [
    "# Saving"
   ]
  },
  {
   "cell_type": "code",
   "execution_count": 53,
   "id": "b5deeada",
   "metadata": {},
   "outputs": [],
   "source": [
    "# Save the entire model\n",
    "torch.save(model, 'LinkStop_NNmodel1.pth')\n"
   ]
  },
  {
   "cell_type": "code",
   "execution_count": 54,
   "id": "da906c74",
   "metadata": {},
   "outputs": [],
   "source": [
    "# Save the model's state_dict (parameters)\n",
    "torch.save(model.state_dict(), 'model.pth')\n"
   ]
  },
  {
   "cell_type": "markdown",
   "id": "35f6eaf5",
   "metadata": {},
   "source": [
    "# Load model"
   ]
  },
  {
   "cell_type": "code",
   "execution_count": null,
   "id": "876abc85",
   "metadata": {},
   "outputs": [],
   "source": []
  },
  {
   "cell_type": "code",
   "execution_count": null,
   "id": "ffccdef9",
   "metadata": {},
   "outputs": [],
   "source": []
  },
  {
   "cell_type": "code",
   "execution_count": null,
   "id": "c79a0a2f",
   "metadata": {},
   "outputs": [],
   "source": []
  },
  {
   "cell_type": "code",
   "execution_count": null,
   "id": "4a825c5c",
   "metadata": {},
   "outputs": [],
   "source": []
  },
  {
   "cell_type": "raw",
   "id": "3045b493",
   "metadata": {},
   "source": []
  },
  {
   "cell_type": "code",
   "execution_count": null,
   "id": "222acc4e",
   "metadata": {},
   "outputs": [],
   "source": []
  },
  {
   "cell_type": "code",
   "execution_count": null,
   "id": "a7022c01",
   "metadata": {},
   "outputs": [],
   "source": []
  },
  {
   "cell_type": "code",
   "execution_count": null,
   "id": "69b104f0",
   "metadata": {},
   "outputs": [],
   "source": []
  },
  {
   "cell_type": "code",
   "execution_count": null,
   "id": "dd3cc1ef",
   "metadata": {},
   "outputs": [],
   "source": []
  },
  {
   "cell_type": "code",
   "execution_count": null,
   "id": "802a5bd9",
   "metadata": {},
   "outputs": [],
   "source": []
  },
  {
   "cell_type": "code",
   "execution_count": null,
   "id": "27e3cc90",
   "metadata": {},
   "outputs": [],
   "source": []
  },
  {
   "cell_type": "code",
   "execution_count": null,
   "id": "ab25ed5d",
   "metadata": {},
   "outputs": [],
   "source": []
  },
  {
   "cell_type": "code",
   "execution_count": null,
   "id": "486f5e84",
   "metadata": {},
   "outputs": [],
   "source": []
  },
  {
   "cell_type": "code",
   "execution_count": null,
   "id": "37291704",
   "metadata": {},
   "outputs": [],
   "source": []
  },
  {
   "cell_type": "code",
   "execution_count": null,
   "id": "0fcc3d57",
   "metadata": {},
   "outputs": [],
   "source": []
  },
  {
   "cell_type": "code",
   "execution_count": null,
   "id": "70332728",
   "metadata": {},
   "outputs": [],
   "source": []
  },
  {
   "cell_type": "code",
   "execution_count": null,
   "id": "96e985d6",
   "metadata": {},
   "outputs": [],
   "source": []
  },
  {
   "cell_type": "code",
   "execution_count": null,
   "id": "7646c07f",
   "metadata": {},
   "outputs": [],
   "source": []
  },
  {
   "cell_type": "code",
   "execution_count": null,
   "id": "023d410d",
   "metadata": {},
   "outputs": [],
   "source": []
  },
  {
   "cell_type": "code",
   "execution_count": null,
   "id": "7c7d8d46",
   "metadata": {},
   "outputs": [],
   "source": []
  }
 ],
 "metadata": {
  "kernelspec": {
   "display_name": "Python 3",
   "language": "python",
   "name": "python3"
  },
  "language_info": {
   "codemirror_mode": {
    "name": "ipython",
    "version": 3
   },
   "file_extension": ".py",
   "mimetype": "text/x-python",
   "name": "python",
   "nbconvert_exporter": "python",
   "pygments_lexer": "ipython3",
   "version": "3.7.16"
  }
 },
 "nbformat": 4,
 "nbformat_minor": 5
}
